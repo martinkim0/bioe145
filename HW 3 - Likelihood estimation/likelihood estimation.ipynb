{
 "cells": [
  {
   "cell_type": "markdown",
   "metadata": {
    "id": "KmES9VXYYqha"
   },
   "source": [
    "# Assignment 3 Code \n",
    "\n",
    "Editing and saving the code:\n",
    "- Go to **File > Download .ipynb** in order to work using the jupyter suite locally.\n",
    "- Otherwise, work through Google Colab by: **File > Save a copy in Drive** to edit a personal copy.\n",
    "\n",
    "Running the second cell (which reads files):\n",
    "- In Google Colab, ensure that the Assignment 3 files are uploaded to the local runtime using the File icon on the left.\n",
    "- Locally, ensure that the Assignment 3 files are placed in the same directory as the notebook."
   ]
  },
  {
   "cell_type": "code",
   "execution_count": 1,
   "metadata": {
    "id": "-U_Ws4rv0dKo"
   },
   "outputs": [],
   "source": [
    "import numpy as np\n",
    "import pandas as pd\n",
    "import matplotlib.pyplot as plt\n",
    "from scipy.stats import poisson"
   ]
  },
  {
   "cell_type": "code",
   "execution_count": 2,
   "metadata": {
    "id": "xh68Hn3b0jNC"
   },
   "outputs": [],
   "source": [
    "two = pd.read_csv(\"q2_set_1.tsv\", sep='\\t', index_col=0)"
   ]
  },
  {
   "cell_type": "markdown",
   "metadata": {
    "id": "BAaNGUoq9tnB"
   },
   "source": [
    "# 2. Poisson Counts"
   ]
  },
  {
   "cell_type": "markdown",
   "metadata": {
    "id": "pYMnnV7Z6-Zx"
   },
   "source": [
    "## 2b. Compute Lambdas"
   ]
  },
  {
   "cell_type": "code",
   "execution_count": 3,
   "metadata": {
    "id": "XmcGvjpFNTHN"
   },
   "outputs": [],
   "source": [
    "two_x = two.iloc[0,0:5].to_numpy()\n",
    "two_y = two.iloc[0,5:].to_numpy()\n",
    "two_all = two.iloc[0,:].to_numpy()"
   ]
  },
  {
   "cell_type": "code",
   "execution_count": 4,
   "metadata": {
    "id": "pO9Hm6b6NX7J"
   },
   "outputs": [
    {
     "name": "stdout",
     "output_type": "stream",
     "text": [
      "lambda_0: 5889.4\n",
      "lambda_x: 5902.6\n",
      "lambda_y: 5876.2\n"
     ]
    }
   ],
   "source": [
    "lambda_0 = np.average(two_all)\n",
    "lambda_x = np.average(two_x)\n",
    "lambda_y = np.average(two_y)\n",
    "print(\"lambda_0: \" + str(lambda_0))\n",
    "print(\"lambda_x: \" + str(lambda_x))\n",
    "print(\"lambda_y: \" + str(lambda_y))"
   ]
  },
  {
   "cell_type": "markdown",
   "metadata": {
    "id": "GgI793hi8sqD"
   },
   "source": [
    "## 2d. Compute Likelihoods"
   ]
  },
  {
   "cell_type": "markdown",
   "metadata": {
    "id": "zdXrYdIbXBxO"
   },
   "source": [
    "Read the docs on [scipy.stats.poisson](https://docs.scipy.org/doc/scipy/reference/generated/scipy.stats.poisson.html).\n",
    "\n",
    "To chain multiple products, you can use [np.prod](https://numpy.org/doc/stable/reference/generated/numpy.prod.html)."
   ]
  },
  {
   "cell_type": "code",
   "execution_count": 5,
   "metadata": {
    "id": "qB7c-ZJiPKff"
   },
   "outputs": [
    {
     "name": "stdout",
     "output_type": "stream",
     "text": [
      "likelihood_0: 2.2655243807774852e-24\n",
      "likelihood_a: 2.6267127365612815e-24\n"
     ]
    }
   ],
   "source": [
    "poisson_0 = poisson(lambda_0)\n",
    "poisson_x = poisson(lambda_x)\n",
    "poisson_y = poisson(lambda_y)\n",
    "likelihood_0 = np.prod([poisson_0.pmf(val) for val in two_all])\n",
    "likelihood_a = np.prod([poisson_x.pmf(x_i) for x_i in two_x] + [poisson_y.pmf(y_i) for y_i in two_y])\n",
    "print(\"likelihood_0: \" + str(likelihood_0))\n",
    "print(\"likelihood_a: \" + str(likelihood_a))"
   ]
  },
  {
   "cell_type": "markdown",
   "metadata": {
    "id": "f8L5Qjrw8yQX"
   },
   "source": [
    "## 2e. Compute Likelihood Ratio"
   ]
  },
  {
   "cell_type": "code",
   "execution_count": 6,
   "metadata": {
    "id": "unIIrE4qPLl1"
   },
   "outputs": [
    {
     "name": "stdout",
     "output_type": "stream",
     "text": [
      "Likelihood ratio: 0.29585381503238717\n"
     ]
    }
   ],
   "source": [
    "ratio = -2*np.log(likelihood_0/likelihood_a)\n",
    "print(\"Likelihood ratio: \" + str(ratio))"
   ]
  }
 ],
 "metadata": {
  "colab": {
   "collapsed_sections": [],
   "name": "Assignment 3 Code.ipynb",
   "provenance": []
  },
  "kernelspec": {
   "display_name": "Python 3",
   "language": "python",
   "name": "python3"
  },
  "language_info": {
   "codemirror_mode": {
    "name": "ipython",
    "version": 3
   },
   "file_extension": ".py",
   "mimetype": "text/x-python",
   "name": "python",
   "nbconvert_exporter": "python",
   "pygments_lexer": "ipython3",
   "version": "3.9.1"
  }
 },
 "nbformat": 4,
 "nbformat_minor": 1
}
