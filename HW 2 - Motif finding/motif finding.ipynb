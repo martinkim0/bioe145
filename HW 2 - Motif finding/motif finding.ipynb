{
 "cells": [
  {
   "cell_type": "markdown",
   "metadata": {},
   "source": [
    "# Multiple EM for Motif Elicitation"
   ]
  },
  {
   "cell_type": "code",
   "execution_count": 1,
   "metadata": {},
   "outputs": [],
   "source": [
    "import numpy as np\n",
    "from sklearn.preprocessing import normalize\n",
    "from Bio import SeqIO"
   ]
  },
  {
   "cell_type": "code",
   "execution_count": 2,
   "metadata": {},
   "outputs": [],
   "source": [
    "# Constant used in this exercise\n",
    "# Fill in all of the ...s/TODOs\n",
    "width = 8\n",
    "\n",
    "# Helper dict for indexing\n",
    "let_dict = {\"A\":0, \"C\":1, \"G\":2, \"T\":3}"
   ]
  },
  {
   "cell_type": "markdown",
   "metadata": {},
   "source": [
    "## 1. Read in Fasta Sequences"
   ]
  },
  {
   "cell_type": "code",
   "execution_count": 3,
   "metadata": {},
   "outputs": [],
   "source": [
    "fastas = open(\"motif-regions.fa\")\n",
    "sequences = SeqIO.parse(fastas, 'fasta')\n",
    "seqs = {}\n",
    "for i, sequence in enumerate(sequences):\n",
    "    seqs[i] = sequence\n",
    "seqs = list(seqs.values())"
   ]
  },
  {
   "cell_type": "markdown",
   "metadata": {},
   "source": [
    "## 2. Create p_0"
   ]
  },
  {
   "cell_type": "code",
   "execution_count": 4,
   "metadata": {},
   "outputs": [],
   "source": [
    "def init_p(l, w, seqs, let):\n",
    "    p = np.zeros((4, w+1))\n",
    "\n",
    "    # Uniform background for each A C G T\n",
    "    for i in range(len(p)):\n",
    "        p[i][0] = 0.25\n",
    "\n",
    "    # set motif positions\n",
    "    for i in range(l-w+1):\n",
    "        for sequence in seqs:\n",
    "            for j in range(w):\n",
    "                nuc = str(sequence.seq)[i+j]\n",
    "                p[let[nuc]][j+1] += 1\n",
    "                \n",
    "    p = normalize(p, axis=0, norm = 'l1')\n",
    "    return p"
   ]
  },
  {
   "cell_type": "markdown",
   "metadata": {},
   "source": [
    "## 3. Fill in EM iteration"
   ]
  },
  {
   "cell_type": "code",
   "execution_count": 5,
   "metadata": {},
   "outputs": [],
   "source": [
    "def run_EM(w, seqs, let, init_p, up_prob, up_motif, epsilon = 2**-64):\n",
    "    \n",
    "    l = len(str(seqs[0].seq))\n",
    "    no_change = False\n",
    "    p_t_1 = init_p(l, w, seqs, let)\n",
    "        \n",
    "    while not no_change:\n",
    "        z_t = up_motif(l, w, p_t_1, seqs, let) # E step\n",
    "        p_t = up_prob(l, w, z_t, seqs, let) # M step\n",
    "        \n",
    "        diff = np.subtract(p_t, p_t_1)\n",
    "        check = np.absolute(diff)\n",
    "        \n",
    "        if np.amax(check) <= epsilon:        \n",
    "            no_change = True\n",
    "        else:\n",
    "            p_t_1 = p_t\n",
    "                \n",
    "    return p_t, z_t"
   ]
  },
  {
   "cell_type": "markdown",
   "metadata": {},
   "source": [
    "## 4. Fill in function to update z_t"
   ]
  },
  {
   "cell_type": "code",
   "execution_count": 6,
   "metadata": {},
   "outputs": [],
   "source": [
    "def up_motif(l, w, p_t_1, seqs, let):\n",
    "    z_t = np.zeros((len(seqs), l-w+1))\n",
    "    other = (0.25)**(l-w)\n",
    "    \n",
    "    for i, sequence in enumerate(seqs):\n",
    "        total = 0\n",
    "        for j in range(l-w+1):\n",
    "            p = 1\n",
    "            for k in range(w):\n",
    "                nuc = str(sequence.seq)[j+k]\n",
    "                p *= p_t_1[let[nuc]][k+1]\n",
    "            \n",
    "            p *= other\n",
    "            z_t[i][j] = p\n",
    "            total += p\n",
    "            \n",
    "        for j in range(l-w+1):\n",
    "            z_t[i][j] /= total\n",
    "            \n",
    "    z_t = normalize(z_t, axis=0, norm='l1')\n",
    "    return z_t "
   ]
  },
  {
   "cell_type": "markdown",
   "metadata": {},
   "source": [
    "## 5. Fill in function to update p_t"
   ]
  },
  {
   "cell_type": "code",
   "execution_count": 7,
   "metadata": {},
   "outputs": [],
   "source": [
    "def up_prob(l, w, z_t, seqs, let):\n",
    "    p_t = np.zeros((4, w+1))\n",
    "    n = np.zeros((4, w+1))\n",
    "        \n",
    "    # k > 0\n",
    "    for k in range(1, w+1):\n",
    "        for base in let.keys():\n",
    "            sum_z = 0\n",
    "            for i, sequence in enumerate(seqs):\n",
    "                current = str(sequence.seq)            \n",
    "                j_vals = [j for j in range(w-k+1) if current[j+k-1] == base]\n",
    "                for j in j_vals:\n",
    "                    sum_z += z_t[i][j]\n",
    "            \n",
    "            n[let[base]][k] = sum_z\n",
    "            \n",
    "    # k = 0\n",
    "    joined_seq = \"\".join([str(sequence.seq) for sequence in seqs])\n",
    "    counts = [0, 0, 0, 0]\n",
    "    sum_n_j = [0, 0, 0, 0]\n",
    "    for base in let.keys():\n",
    "        counts[let[base]] = joined_seq.count(base) # total number of base in data set\n",
    "        for sequence in seqs:\n",
    "            current = str(sequence.seq)\n",
    "            sum_n_j[let[base]] += current[:w].count(base)\n",
    "        n[let[base]][0] = counts[let[base]] - sum_n_j[let[base]]\n",
    "    \n",
    "    totals = np.sum(n, axis=0) + 4\n",
    "    totals = np.full((4, len(totals)), totals)\n",
    "    p_t = np.divide(n+1, totals)\n",
    "        \n",
    "    return p_t"
   ]
  },
  {
   "cell_type": "markdown",
   "metadata": {},
   "source": [
    "## 6. Run the EM to find the final p and z"
   ]
  },
  {
   "cell_type": "code",
   "execution_count": 8,
   "metadata": {},
   "outputs": [],
   "source": [
    "# Use the variables set at the start and \n",
    "# TODO:\n",
    "p_end, z_end = run_EM(width, seqs, let_dict, init_p, up_prob, up_motif, epsilon=2**-50)"
   ]
  },
  {
   "cell_type": "markdown",
   "metadata": {},
   "source": [
    "## 7. Determine Motifs"
   ]
  },
  {
   "cell_type": "code",
   "execution_count": 9,
   "metadata": {},
   "outputs": [
    {
     "name": "stdout",
     "output_type": "stream",
     "text": [
      "['TTTTTCTT', 'TTTATTCT', 'TTATTTCC', 'TTTTTTTT', 'TTTTCTAA', 'TTCTTTCT', 'TTTTTCTC', 'TTTTTTTT', 'TTTATAGT', 'TTTTTTCG', 'TTTTCTAG', 'TTTTTTCA', 'TTTATTTA', 'TTTTTTGG', 'TTAAAAGT', 'TTTTATCA', 'TTTTTCCA', 'TTTTTCAT', 'TTTTCTGG', 'TATTTGAC', 'TTATTCAG', 'TTTCTAGA', 'TTTTAATA', 'TTTTGTAA', 'TTTCCTAC', 'TTGTTAGG', 'TATATGTA', 'TTTTTATC', 'TTTTTTGC', 'TTCTTTTT', 'TTATGTTC', 'TTTCTTCT', 'TTTTCTGG', 'TTTTTTCT', 'TTTTTCTA', 'ATTACCAG', 'TATTTTAA', 'TTTTTTTT', 'TTTTTTCA', 'TTTTTGGC', 'TTTTTTCA', 'TTTTTGCT', 'TTTTTTGA', 'TTTTTTCC', 'TTTCTAAG', 'TATATGAA', 'TTTTTCTT', 'TTTTTTTC', 'AATTTGAA', 'TTTCTTTA']\n"
     ]
    }
   ],
   "source": [
    "# Find the indices of the max element for each row in z_end\n",
    "motif_indices = [np.argmax(z_end[i]) for i in range(np.shape(z_end)[0])]\n",
    "\n",
    "# Get the 'width' characters long motifs using seqs\n",
    "motifs = [str(sequence.seq)[motif_indices[i]:motif_indices[i] + width] for i, sequence in enumerate(seqs)]\n",
    "print(motifs)"
   ]
  },
  {
   "cell_type": "code",
   "execution_count": null,
   "metadata": {},
   "outputs": [],
   "source": []
  }
 ],
 "metadata": {
  "kernelspec": {
   "display_name": "Python 3",
   "language": "python",
   "name": "python3"
  },
  "language_info": {
   "codemirror_mode": {
    "name": "ipython",
    "version": 3
   },
   "file_extension": ".py",
   "mimetype": "text/x-python",
   "name": "python",
   "nbconvert_exporter": "python",
   "pygments_lexer": "ipython3",
   "version": "3.8.7"
  }
 },
 "nbformat": 4,
 "nbformat_minor": 2
}
